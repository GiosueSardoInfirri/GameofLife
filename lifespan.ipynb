{
 "cells": [
  {
   "cell_type": "code",
   "execution_count": null,
   "metadata": {},
   "outputs": [],
   "source": [
    "import numpy as np\n",
    "import matplotlib.pyplot as plt\n"
   ]
  },
  {
   "cell_type": "code",
   "execution_count": null,
   "metadata": {},
   "outputs": [],
   "source": [
    "# CODE TO ANALIZE THE LIFESPAN CHANGING SEED (FOR FIXED DIMENSION AND NATIVITY)\n",
    "occupazioni = ['125', '250', '375', '500', '625']\n",
    "dimensioni = ['15']\n",
    "\n",
    "fig, axes = plt.subplots(nrows=1, ncols=5, figsize=(30, 5))\n",
    "\n",
    "analisi = 'lifespan'\n",
    "i = 0\n",
    "print()\n",
    "for occ in occupazioni:\n",
    "    for griglia in dimensioni:\n",
    "        data = []\n",
    "        filename = \"vite/\" + analisi + \"_\" + griglia + \"_\" + occ + \".txt\"\n",
    "        filein = open(filename, 'r')\n",
    "        for line in filein:\n",
    "            data.append(float(line))\n",
    "        \n",
    "        title = \"Lifespan with a grid \" + griglia + \"*\" + griglia + \" and nativity = \" + str(int(occ)/10) + \"%\"\n",
    "        ax = axes[i]\n",
    "        ax.hist(data, bins='auto')\n",
    "        ax.set_xlabel(\"lifespan\")\n",
    "        ax.set_ylabel(\"counts\")\n",
    "        ax.title.set_text(title)\n",
    "        i += 1\n",
    "    \n",
    "plt.savefig(\"lifespan.png\")\n"
   ]
  },
  {
   "cell_type": "code",
   "execution_count": null,
   "metadata": {},
   "outputs": [],
   "source": [
    "analisi = 'periodicity'\n",
    "\n",
    "for occ in occupazioni:\n",
    "    for griglia in dimensioni:\n",
    "        data = []\n",
    "        filename = \"vite/\" + analisi + \"_\" + griglia + \"_\" + occ + \".txt\"\n",
    "        filein = open(filename, 'r')\n",
    "        for line in filein:\n",
    "            data.append(float(line))\n",
    "\n",
    "# DA MODIFICAREEEE\n",
    "        title = \"Periods with a grid \" + griglia + \"*\" + griglia + \" and nativity = \" + str(int(occ)/10) + \"%\"\n",
    "        ax = axes[i]\n",
    "        ax.hist(data, bins='auto')\n",
    "        ax.set_xlabel(\"lifespan\")\n",
    "        ax.set_ylabel(\"counts\")\n",
    "        ax.title.set_text(title)\n",
    "        i += 1\n",
    "    \n",
    "plt.savefig(\"lifespan.png\")\n"
   ]
  },
  {
   "cell_type": "code",
   "execution_count": null,
   "metadata": {},
   "outputs": [],
   "source": [
    "filename = \"nativities/mean_evaluated_simo.txt\"\n",
    "filein = open(filename, 'r')\n",
    "\n",
    "dati_x, dati_y = [], []\n",
    "for line in filein:\n",
    "    dati_x.append(float(line.split(\"\\t\")[0]))\n",
    "    dati_y.append(float(line.split(\"\\t\")[1]))\n",
    "\n",
    "print(dati_x, dati_y)\n",
    "\n",
    "plt.plot(dati_x, dati_y, \"o\")"
   ]
  },
  {
   "cell_type": "code",
   "execution_count": 7,
   "metadata": {},
   "outputs": [
    {
     "ename": "FileNotFoundError",
     "evalue": "[Errno 2] No such file or directory: 'dims_vs_occ.txt'",
     "output_type": "error",
     "traceback": [
      "\u001b[1;31m---------------------------------------------------------------------------\u001b[0m",
      "\u001b[1;31mFileNotFoundError\u001b[0m                         Traceback (most recent call last)",
      "\u001b[1;32m~\\AppData\\Local\\Temp\\ipykernel_35568\\1003420490.py\u001b[0m in \u001b[0;36m<module>\u001b[1;34m\u001b[0m\n\u001b[0;32m      1\u001b[0m \u001b[0mfilename\u001b[0m \u001b[1;33m=\u001b[0m \u001b[1;34m\"dims_vs_occ.txt\"\u001b[0m\u001b[1;33m\u001b[0m\u001b[1;33m\u001b[0m\u001b[0m\n\u001b[1;32m----> 2\u001b[1;33m \u001b[0mfilein\u001b[0m \u001b[1;33m=\u001b[0m \u001b[0mopen\u001b[0m\u001b[1;33m(\u001b[0m\u001b[0mfilename\u001b[0m\u001b[1;33m,\u001b[0m \u001b[1;34m'r'\u001b[0m\u001b[1;33m)\u001b[0m\u001b[1;33m\u001b[0m\u001b[1;33m\u001b[0m\u001b[0m\n\u001b[0m\u001b[0;32m      3\u001b[0m \u001b[1;33m\u001b[0m\u001b[0m\n\u001b[0;32m      4\u001b[0m \u001b[0mdati_x\u001b[0m\u001b[1;33m,\u001b[0m \u001b[0mdati_y\u001b[0m \u001b[1;33m=\u001b[0m \u001b[1;33m[\u001b[0m\u001b[1;33m]\u001b[0m\u001b[1;33m,\u001b[0m \u001b[1;33m[\u001b[0m\u001b[1;33m]\u001b[0m\u001b[1;33m\u001b[0m\u001b[1;33m\u001b[0m\u001b[0m\n\u001b[0;32m      5\u001b[0m \u001b[1;32mfor\u001b[0m \u001b[0mline\u001b[0m \u001b[1;32min\u001b[0m \u001b[0mfilein\u001b[0m\u001b[1;33m:\u001b[0m\u001b[1;33m\u001b[0m\u001b[1;33m\u001b[0m\u001b[0m\n",
      "\u001b[1;31mFileNotFoundError\u001b[0m: [Errno 2] No such file or directory: 'dims_vs_occ.txt'"
     ]
    }
   ],
   "source": [
    "filename = \"dims_vs_occ.txt\"\n",
    "filein = open(filename, 'r')\n",
    "\n",
    "dati_x, dati_y = [], []\n",
    "for line in filein:\n",
    "    dati_x.append(float(line.split(\"\\t\")[0]))\n",
    "    dati_y.append(float(line.split(\"\\t\")[1]))\n",
    "\n",
    "print(dati_x, dati_y)\n",
    "\n",
    "plt.plot(dati_x, dati_y, \"o\")"
   ]
  },
  {
   "cell_type": "code",
   "execution_count": null,
   "metadata": {},
   "outputs": [],
   "source": []
  }
 ],
 "metadata": {
  "kernelspec": {
   "display_name": "base",
   "language": "python",
   "name": "python3"
  },
  "language_info": {
   "codemirror_mode": {
    "name": "ipython",
    "version": 3
   },
   "file_extension": ".py",
   "mimetype": "text/x-python",
   "name": "python",
   "nbconvert_exporter": "python",
   "pygments_lexer": "ipython3",
   "version": "3.7.13"
  },
  "orig_nbformat": 4,
  "vscode": {
   "interpreter": {
    "hash": "7cc63d8bb06c1e0227ac9b01a159a9605014b04eb1faff35da1ccc42cc4f7246"
   }
  }
 },
 "nbformat": 4,
 "nbformat_minor": 2
}
