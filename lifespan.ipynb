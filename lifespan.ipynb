{
 "cells": [
  {
   "cell_type": "code",
   "execution_count": null,
   "metadata": {},
   "outputs": [],
   "source": []
  },
  {
   "cell_type": "code",
   "execution_count": null,
   "metadata": {},
   "outputs": [],
   "source": [
    "import numpy as np\n",
    "import matplotlib.pyplot as plt\n",
    "from scipy import optimize"
   ]
  },
  {
   "attachments": {},
   "cell_type": "markdown",
   "metadata": {},
   "source": [
    "### Analize the lifespan changing the seed (for fixed dimension and nativity)"
   ]
  },
  {
   "cell_type": "code",
   "execution_count": null,
   "metadata": {},
   "outputs": [],
   "source": [
    "occupazioni = ['125', '250', '375', '500', '625']\n",
    "dimensioni = ['15']\n",
    "\n",
    "fig, axes = plt.subplots(nrows=1, ncols=5, figsize=(30, 5))\n",
    "\n",
    "analisi = 'lifespan'\n",
    "i = 0\n",
    "print()\n",
    "for occ in occupazioni:\n",
    "    for griglia in dimensioni:\n",
    "        data = []\n",
    "        filename = \"vite/\" + analisi + \"_\" + griglia + \"_\" + occ + \".txt\"\n",
    "        filein = open(filename, 'r')\n",
    "        for line in filein:\n",
    "            data.append(float(line))\n",
    "        \n",
    "        title = \"Lifespan with a grid \" + griglia + \"*\" + griglia + \" and nativity = \" + str(int(occ)/10) + \"%\"\n",
    "        ax = axes[i]\n",
    "        ax.hist(data, bins='auto')\n",
    "        ax.set_xlabel(\"lifespan\")\n",
    "        ax.set_ylabel(\"counts\")\n",
    "        ax.title.set_text(title)\n",
    "        i += 1\n",
    "    \n",
    "plt.savefig(\"plot_analisys/lifespan.png\")\n"
   ]
  },
  {
   "cell_type": "code",
   "execution_count": null,
   "metadata": {},
   "outputs": [],
   "source": [
    "occupazioni = ['125', '250', '375', '500', '625']\n",
    "dimensioni = ['15']\n",
    "\n",
    "def exponential(x, const, height, position):\n",
    "    return const + height*np.e**(-x + position)\n",
    "\n",
    "analisi = 'lifespan'\n",
    "i = 0\n",
    "print()\n",
    "for occ in occupazioni:\n",
    "    for griglia in dimensioni:\n",
    "        data = []\n",
    "        filename = \"vite/\" + analisi + \"_\" + griglia + \"_\" + occ + \".txt\"\n",
    "        filein = open(filename, 'r')\n",
    "        for line in filein:\n",
    "            data.append(float(line))\n",
    "        \n",
    "        title = \"Lifespan with a grid \" + griglia + \"*\" + griglia + \" and nativity = \" + str(int(occ)/10) + \"%\"\n",
    "        n, bins = np.histogram(data, bins='auto')\n",
    "\n",
    "        bins = (bins[:-1] + bins[1:])/2\n",
    "\n",
    "        n_fit= np.log(n[list(n).index(max(n)):list(n).index(0)])\n",
    "        bin_fit = bins[list(n).index(max(n)):list(n).index(0)]\n",
    "\n",
    "        params, covariance = np.polyfit(bin_fit, n_fit, deg=1, full=False, cov=True)\n",
    "\n",
    "        X = np.linspace(min(bin_fit), 1000, 1000)\n",
    "        plt.plot(X, np.exp(params[0]*X + params[1]))\n",
    "\n",
    "        \n",
    "        # plt.plot(bins, n, drawstyle='steps-mid')\n",
    "        # plt.bar(bins, n, alpha=0.5, color='r', width=100(1000//len(bins)))\n",
    "        plt.hist(data, bins=len(bins), alpha=0.5)\n",
    "        plt.xlabel(\"lifespan\")\n",
    "        plt.ylabel(\"counts\")\n",
    "        plt.title(title)\n",
    "        nomefile = 'plot_analisys/lifespan_fit_' + occ + '.png'\n",
    "        plt.savefig(nomefile)\n",
    "        plt.show()\n",
    "        i += 1\n",
    "\n",
    "\n"
   ]
  },
  {
   "cell_type": "code",
   "execution_count": null,
   "metadata": {},
   "outputs": [],
   "source": [
    "occupazioni = ['125', '250', '375', '500', '625']\n",
    "dimensioni = ['15']\n",
    "\n",
    "fig, axes = plt.subplots(nrows=1, ncols=5, figsize=(30, 5))\n",
    "\n",
    "analisi = 'periodicity'\n",
    "i = 0\n",
    "print()\n",
    "for occ in occupazioni:\n",
    "    for griglia in dimensioni:\n",
    "        data = []\n",
    "        filename = \"vite/\" + analisi + \"_\" + griglia + \"_\" + occ + \".txt\"\n",
    "        filein = open(filename, 'r')\n",
    "        for line in filein:\n",
    "            data.append(float(line))\n",
    "        \n",
    "        title = \"Lifespan with a grid \" + griglia + \"*\" + griglia + \" and nativity = \" + str(int(occ)/10) + \"%\"\n",
    "        ax = axes[i]\n",
    "        ax.hist(data, bins='auto')\n",
    "        ax.set_xlabel(\"lifespan\")\n",
    "        ax.set_ylabel(\"counts\")\n",
    "        ax.title.set_text(title)\n",
    "        i += 1\n",
    "    \n",
    "plt.savefig(\"plot_analisys/periodicity.png\")"
   ]
  },
  {
   "attachments": {},
   "cell_type": "markdown",
   "metadata": {},
   "source": [
    "One can see that the periodicity is always 1 (game frozen on a stati c configuration) or 2 (due to the presence of oscillators of period 2). But there are also periodicity of 60 (due to the presence of a glider. ex: seed=1020 native=12.5)"
   ]
  },
  {
   "attachments": {},
   "cell_type": "markdown",
   "metadata": {},
   "source": [
    "### Asymptotic occupancy as a function of the dimension of the grid"
   ]
  },
  {
   "cell_type": "code",
   "execution_count": 27,
   "metadata": {},
   "outputs": [
    {
     "data": {
      "text/plain": [
       "[<matplotlib.lines.Line2D at 0x1b378acd448>]"
      ]
     },
     "execution_count": 27,
     "metadata": {},
     "output_type": "execute_result"
    },
    {
     "data": {
      "image/png": "[encoded data removed]",
      "text/plain": [
       "<Figure size 600x600 with 1 Axes>"
      ]
     },
     "metadata": {},
     "output_type": "display_data"
    }
   ],
   "source": [
    "data = np.loadtxt(\"dims_vs_occ2.txt\")\n",
    "\n",
    "dataX, dataY,sigmaY = data[:,0],data[:,1],data[:,2]\n",
    "sigmaY = sigmaY / np.sqrt(200)#error of mean\n",
    "y_scaled = np.array([dataY[i]/(dataX[i]**2) for i in range(len(dataX))])\n",
    "xs = np.linspace(5,1000,1000)\n",
    "\n",
    "fig, ax = plt.subplots(nrows=1,ncols=1)\n",
    "ax.figure.set_size_inches(6,6)\n",
    "ax.set_xlabel(\"Dimension\")\n",
    "ax.set_ylabel(\"Asymptotic occupancy\")\n",
    "ax.grid()\n",
    "plt.plot(dataX,dataY,\"bo\", label = \"data\")"
   ]
  },
  {
   "attachments": {},
   "cell_type": "markdown",
   "metadata": {},
   "source": [
    "We expect it to grow quadratically (due to the fact that the size of the grid grows quadratically), so we perform a linear fit on the area"
   ]
  },
  {
   "cell_type": "code",
   "execution_count": 28,
   "metadata": {},
   "outputs": [
    {
     "name": "stdout",
     "output_type": "stream",
     "text": [
      "[0.03172549 0.94466436]\n",
      "[[ 8.53383827e-08 -2.16515668e-05]\n",
      " [-2.16515668e-05  7.30952159e-03]]\n"
     ]
    }
   ],
   "source": [
    "dataX = dataX**2 #squared sizes\n",
    "\n",
    "def f(x,a,b):\n",
    "    return a*x+b\n",
    "params, params_covariance = optimize.curve_fit(f, dataX, dataY, sigma = sigmaY, p0=[0.03, 0])\n",
    "\n",
    "print(params)\n",
    "print(covariance)"
   ]
  },
  {
   "cell_type": "code",
   "execution_count": 25,
   "metadata": {},
   "outputs": [
    {
     "data": {
      "image/png": "[encoded data removed]",
      "text/plain": [
       "<Figure size 700x700 with 1 Axes>"
      ]
     },
     "metadata": {},
     "output_type": "display_data"
    }
   ],
   "source": [
    "fig = plt.figure(figsize=(7,7))\n",
    "ax = fig.add_subplot(1,1,1)\n",
    "ax.set_xlabel(\"Dims\", fontsize=15)\n",
    "ax.set_ylabel(\"Average occupancy\",fontsize=15)\n",
    "ax.plot(dataX,dataY,\"bo\")\n",
    "\n",
    "ax.errorbar(dataX, dataY, yerr = sigmaY,fmt = \"o\", label = \"Data points\")\n",
    "ax.plot(xs, f(xs,params[0],params[1]), \"r\", label = \"Linear fit\")\n",
    "ax.grid()\n",
    "ax.legend()\n",
    "plt.savefig(\"linear_fit.png\")"
   ]
  },
  {
   "attachments": {},
   "cell_type": "markdown",
   "metadata": {},
   "source": [
    "### Nativity with respect to occupancy"
   ]
  },
  {
   "cell_type": "code",
   "execution_count": null,
   "metadata": {},
   "outputs": [],
   "source": [
    "data = np.loadtxt(\"nativity_vs_occupancy.txt\")"
   ]
  },
  {
   "cell_type": "code",
   "execution_count": null,
   "metadata": {},
   "outputs": [],
   "source": [
    "nativities = data[:,0]\n",
    "occupancies = data[:,1]\n",
    "\n",
    "fig = plt.figure(figsize=(6,6))\n",
    "ax = fig.add_subplot(1,1,1)\n",
    "ax.set_xlabel(\"Nativity\", fontsize = 15)\n",
    "ax.set_ylabel(\"Asymptotic occupancy\", fontsize = 15)\n",
    "ax.grid()\n",
    "\n",
    "ax.plot(nativities,occupancies/15**2, \"bo\", label = \"Data\", alpha = 0.5)\n",
    "ax.legend()\n",
    "plt.savefig(\"nativity_occupancy.png\")\n",
    "#run with 300 seeds for each nativity"
   ]
  },
  {
   "attachments": {},
   "cell_type": "markdown",
   "metadata": {},
   "source": [
    "The behaviour of the data we found is very similar to the one  described [in the following paper](https://www.sciencedirect.com/science/article/abs/pii/037843719190277J) and described in the following image"
   ]
  },
  {
   "cell_type": "code",
   "execution_count": null,
   "metadata": {},
   "outputs": [],
   "source": [
    "img = plt.imread(\"figures/nativity_occupancy.jpg\")\n",
    "plt.axis(\"off\")\n",
    "plt.imshow(img)\n",
    "plt.show()"
   ]
  },
  {
   "attachments": {},
   "cell_type": "markdown",
   "metadata": {},
   "source": [
    "# Lifespan vs nativity\n",
    "\n",
    "In this cell we plot the average lifespan for each nativity value considered.\n"
   ]
  },
  {
   "cell_type": "code",
   "execution_count": null,
   "metadata": {},
   "outputs": [],
   "source": [
    "data = np.loadtxt(\"nativities/mean_evaluated.txt\")\n",
    "nativities = data[:,0]\n",
    "lifespans = data[:,1]\n",
    "fig = plt.figure(figsize=(8,6))\n",
    "ax = fig.add_subplot(1,1,1)\n",
    "ax.plot(nativities,lifespans,\"ro\",label=\"Data\", alpha = 0.5)\n",
    "ax.grid()\n",
    "ax.set_xlabel\n",
    "plt.show()"
   ]
  }
 ],
 "metadata": {
  "kernelspec": {
   "display_name": "base",
   "language": "python",
   "name": "python3"
  },
  "language_info": {
   "codemirror_mode": {
    "name": "ipython",
    "version": 3
   },
   "file_extension": ".py",
   "mimetype": "text/x-python",
   "name": "python",
   "nbconvert_exporter": "python",
   "pygments_lexer": "ipython3",
   "version": "3.7.13"
  },
  "orig_nbformat": 4,
  "vscode": {
   "interpreter": {
    "hash": "7cc63d8bb06c1e0227ac9b01a159a9605014b04eb1faff35da1ccc42cc4f7246"
   }
  }
 },
 "nbformat": 4,
 "nbformat_minor": 2
}
